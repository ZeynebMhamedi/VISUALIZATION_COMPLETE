{
 "cells": [
  {
   "cell_type": "markdown",
   "id": "e9c816f4",
   "metadata": {},
   "source": [
    "# Random Forest Model (Students Dataset)"
   ]
  },
  {
   "cell_type": "code",
   "execution_count": 30,
   "id": "81e0b710",
   "metadata": {},
   "outputs": [],
   "source": [
    "import numpy as np\n",
    "import pandas as pd\n",
    "import csv \n",
    "from sklearn.ensemble import RandomForestClassifier\n",
    "from sklearn.model_selection import train_test_split\n",
    "from sklearn import tree as _tree\n",
    "import json"
   ]
  },
  {
   "cell_type": "code",
   "execution_count": 45,
   "id": "dca967ed",
   "metadata": {},
   "outputs": [
    {
     "data": {
      "text/plain": [
       "(107, 1423)"
      ]
     },
     "execution_count": 45,
     "metadata": {},
     "output_type": "execute_result"
    }
   ],
   "source": [
    "#importation du dataset \n",
    "df = pd.read_csv('my_full_tcc.csv')\n",
    "\n",
    "#taille du dataset: 135 lignes et 1909 colonnes\n",
    "df.shape"
   ]
  },
  {
   "cell_type": "code",
   "execution_count": 46,
   "id": "6b9c361c",
   "metadata": {},
   "outputs": [
    {
     "data": {
      "text/plain": [
       "RandomForestClassifier(bootstrap=True, ccp_alpha=0.0, class_weight=None,\n",
       "                       criterion='gini', max_depth=None, max_features='auto',\n",
       "                       max_leaf_nodes=None, max_samples=None,\n",
       "                       min_impurity_decrease=0.0, min_impurity_split=None,\n",
       "                       min_samples_leaf=1, min_samples_split=2,\n",
       "                       min_weight_fraction_leaf=0.0, n_estimators=128,\n",
       "                       n_jobs=None, oob_score=False, random_state=0, verbose=0,\n",
       "                       warm_start=False)"
      ]
     },
     "execution_count": 46,
     "metadata": {},
     "output_type": "execute_result"
    }
   ],
   "source": [
    "feature_names = df.columns.tolist()\n",
    "\n",
    "# Get the column name\n",
    "pred = df.filter(regex='s1$', axis=1).columns[0]\n",
    "feature_names.remove(pred)\n",
    "\n",
    "X = df[feature_names]\n",
    "\n",
    "# Transform your target column\n",
    "y = df[pred].apply(lambda x: 0 if x < 10 else 1)\n",
    "\n",
    "class_names = y.unique()\n",
    "\n",
    "# Split the dataset\n",
    "X_train, X_test, y_train, y_test = train_test_split(X, y, random_state=0)\n",
    "\n",
    "# Train a random forest classifier\n",
    "clf = RandomForestClassifier(n_estimators=128, random_state=0)\n",
    "clf.fit(X_train, y_train)\n"
   ]
  },
  {
   "cell_type": "code",
   "execution_count": 47,
   "id": "b9608231",
   "metadata": {},
   "outputs": [],
   "source": [
    "def tree_to_json(tree, feature_names, class_names):\n",
    "    tree_ = tree.tree_\n",
    "    feature_name = [\n",
    "        feature_names[i] if i != -2 else \"undefined!\"\n",
    "        for i in tree_.feature\n",
    "    ]\n",
    "\n",
    "    def recurse(node):\n",
    "        # Check if the node is a leaf\n",
    "        is_leaf = tree_.children_left[node] == tree_.children_right[node] == -1\n",
    "        if not is_leaf:\n",
    "            name = feature_name[node]\n",
    "            return {\"name\": name,\n",
    "                    \"children\": [recurse(tree_.children_left[node]), \n",
    "                                 recurse(tree_.children_right[node])]}\n",
    "        else:\n",
    "            # For leaf nodes, use the most frequent class as name\n",
    "            most_frequent_class_index = np.argmax(tree_.value[node])\n",
    "            most_frequent_class_name = class_names[most_frequent_class_index]\n",
    "            return {\"name\": most_frequent_class_name, \"value\": tree_.value[node].tolist()}\n",
    "\n",
    "    return recurse(0)\n"
   ]
  },
  {
   "cell_type": "code",
   "execution_count": 48,
   "id": "49c0e36b",
   "metadata": {},
   "outputs": [
    {
     "name": "stdout",
     "output_type": "stream",
     "text": [
      "[0.01388752 0.01172319 0.01096809 0.00916356 0.00888429 0.00884636\n",
      " 0.00823901 0.00784566 0.00729171 0.00674939]\n"
     ]
    }
   ],
   "source": [
    "\n",
    "forest_json = []\n",
    "for i, tree in enumerate(clf.estimators_):\n",
    "    accuracy = tree.score(X_test, y_test)\n",
    "    tree_json = tree_to_json(tree, feature_names, class_names)\n",
    "    forest_json.append({\n",
    "        \"id\": i,\n",
    "        \"name\": f\"Arbre {i}\",\n",
    "        \"accuracy\": accuracy,\n",
    "        \"children\": [tree_json]\n",
    "    })\n",
    "    \n",
    "feature_importances = clf.feature_importances_\n",
    "\n",
    "sorted_importances = np.sort(feature_importances, axis=None, kind='quicksort')[::-1]\n",
    "print(sorted_importances[:10])\n",
    "\n",
    "indices = np.argsort(feature_importances)[::-1].tolist()\n",
    "\n",
    "feature_names_ordered = [feature_names[i] for i in indices]\n",
    "\n",
    "importance_dict = {feature_names[i]: feature_importances[i] for i in indices}\n"
   ]
  },
  {
   "cell_type": "markdown",
   "id": "325d451c",
   "metadata": {},
   "source": [
    "La classe NumpyEncoder étend json.JSONEncoder et remplace la méthode default pour gérer les types de données NumPy. Lors de la sérialisation JSON, si le code rencontre un type de données NumPy, il le convertit en un type de données Python équivalent qui peut être sérialisé. En particulier, il convertit np.integer en int, np.floating en float, et np.ndarray en liste.\n"
   ]
  },
  {
   "cell_type": "code",
   "execution_count": 49,
   "id": "6b275ddb",
   "metadata": {},
   "outputs": [],
   "source": [
    "class NumpyEncoder(json.JSONEncoder):\n",
    "    def default(self, obj):\n",
    "        if isinstance(obj, np.integer):\n",
    "            return int(obj)\n",
    "        elif isinstance(obj, np.floating):\n",
    "            return float(obj)\n",
    "        elif isinstance(obj, np.ndarray):\n",
    "            return obj.tolist()\n",
    "        else:\n",
    "            return super(NumpyEncoder, self).default(obj)"
   ]
  },
  {
   "cell_type": "code",
   "execution_count": 99,
   "id": "953db254",
   "metadata": {},
   "outputs": [],
   "source": [
    "with open('full_gea.js', 'w') as f:  # Modifiez l'extension du fichier en .js\n",
    "    f.write(\"export let arbres = \")\n",
    "    f.write(json.dumps(forest_json, cls=NumpyEncoder))\n",
    "    f.write(\";\")"
   ]
  },
  {
   "cell_type": "code",
   "execution_count": 7,
   "id": "86ab4732",
   "metadata": {},
   "outputs": [
    {
     "name": "stdout",
     "output_type": "stream",
     "text": [
      "Nombre d'arbres dans la forêt aléatoire : 128\n"
     ]
    }
   ],
   "source": [
    "print(\"Nombre d'arbres dans la forêt aléatoire :\", len(clf.estimators_))"
   ]
  },
  {
   "cell_type": "code",
   "execution_count": 8,
   "id": "1e0fa811",
   "metadata": {},
   "outputs": [
    {
     "name": "stdout",
     "output_type": "stream",
     "text": [
      "L'accuracy minimale parmi tous les arbres : 0.4411764705882353\n"
     ]
    }
   ],
   "source": [
    "accuracies = [tree.score(X_test, y_test) for tree in clf.estimators_]\n",
    "print(\"L'accuracy minimale parmi tous les arbres :\", min(accuracies))"
   ]
  },
  {
   "cell_type": "markdown",
   "id": "4e8bc8d9",
   "metadata": {},
   "source": [
    "### Matrice de prédiction de chaque élève  "
   ]
  },
  {
   "cell_type": "code",
   "execution_count": 9,
   "id": "20184240",
   "metadata": {},
   "outputs": [],
   "source": [
    "\n",
    "# Initialiser une matrice vide de taille (nombre d'étudiants, nombre d'arbres)\n",
    "prediction_matrix = np.zeros((len(X_test), len(clf.estimators_)))\n",
    "\n",
    "# Pour chaque arbre dans la forêt\n",
    "for i, tree in enumerate(clf.estimators_):\n",
    "    # Obtenir les prédictions de l'arbre pour chaque étudiant\n",
    "    predictions = tree.predict(X_test)\n",
    "    # Mettre à jour la colonne correspondante dans la matrice des prédictions\n",
    "    prediction_matrix[:, i] = predictions\n"
   ]
  },
  {
   "cell_type": "code",
   "execution_count": 103,
   "id": "6a099e93",
   "metadata": {},
   "outputs": [
    {
     "name": "stdout",
     "output_type": "stream",
     "text": [
      "[[1. 1. 1. ... 1. 0. 1.]\n",
      " [0. 1. 1. ... 1. 0. 1.]\n",
      " [0. 0. 1. ... 0. 0. 0.]\n",
      " ...\n",
      " [0. 0. 0. ... 0. 1. 1.]\n",
      " [1. 1. 1. ... 1. 1. 1.]\n",
      " [0. 0. 1. ... 1. 0. 0.]]\n"
     ]
    }
   ],
   "source": [
    "print(prediction_matrix)"
   ]
  },
  {
   "cell_type": "code",
   "execution_count": 16,
   "id": "9a18386d",
   "metadata": {},
   "outputs": [],
   "source": [
    "# Convertir la matrice des prédictions en une liste de listes\n",
    "predictions_list = prediction_matrix.astype(int).tolist()\n",
    "\n",
    "# Convertir la liste des prédictions en JSON\n",
    "predictions_json = json.dumps(predictions_list)\n",
    "\n",
    "# Écrire le JSON dans un fichier .js\n",
    "with open('predictions_matrix_gea.js', 'w') as f:\n",
    "    f.write(\"export let predictions = \")\n",
    "    f.write(predictions_json)\n",
    "    f.write(\";\")"
   ]
  },
  {
   "cell_type": "code",
   "execution_count": 105,
   "id": "3e94113a",
   "metadata": {},
   "outputs": [
    {
     "data": {
      "text/plain": [
       "(34, 128)"
      ]
     },
     "execution_count": 105,
     "metadata": {},
     "output_type": "execute_result"
    }
   ],
   "source": [
    "prediction_matrix.shape"
   ]
  },
  {
   "cell_type": "markdown",
   "id": "83a399a2",
   "metadata": {},
   "source": [
    "### Matrice de précision de chaque élève  "
   ]
  },
  {
   "cell_type": "code",
   "execution_count": 10,
   "id": "e47418a9",
   "metadata": {},
   "outputs": [],
   "source": [
    "# Initialiser une matrice vide de la même taille que la matrice des prédictions\n",
    "accuracy_matrix = np.zeros(prediction_matrix.shape)\n",
    "\n",
    "# Pour chaque arbre dans la forêt\n",
    "for i, tree in enumerate(clf.estimators_):\n",
    "    # Obtenir les prédictions de l'arbre pour chaque étudiant\n",
    "    predictions = tree.predict(X_test)\n",
    "    # Comparer les prédictions aux vraies valeurs et stocker le résultat dans la matrice de précision\n",
    "    accuracy_matrix[:, i] = (predictions == y_test).astype(int)\n",
    "\n"
   ]
  },
  {
   "cell_type": "code",
   "execution_count": 39,
   "id": "d75faf17",
   "metadata": {},
   "outputs": [
    {
     "name": "stdout",
     "output_type": "stream",
     "text": [
      "[[1. 1. 1. ... 1. 0. 1.]\n",
      " [0. 1. 1. ... 1. 0. 1.]\n",
      " [1. 1. 0. ... 1. 1. 1.]\n",
      " ...\n",
      " [1. 1. 1. ... 1. 0. 0.]\n",
      " [1. 1. 1. ... 1. 1. 1.]\n",
      " [1. 1. 0. ... 0. 1. 1.]]\n"
     ]
    }
   ],
   "source": [
    "print(accuracy_matrix)"
   ]
  },
  {
   "cell_type": "code",
   "execution_count": 40,
   "id": "499a2f90",
   "metadata": {},
   "outputs": [],
   "source": [
    "# Convertir la matrice des prédictions en une liste de listes\n",
    "accuracy_list = accuracy_matrix.astype(int).tolist()\n",
    "\n",
    "# Convertir la liste des prédictions en JSON\n",
    "accuracy_json = json.dumps(accuracy_list)\n",
    "\n",
    "# Écrire le JSON dans un fichier .js\n",
    "with open('accuracy_matrix_gea.js', 'w') as f:\n",
    "    f.write(\"export let accuracy = \")\n",
    "    f.write(accuracy_json)\n",
    "    f.write(\";\")"
   ]
  },
  {
   "cell_type": "markdown",
   "id": "4bbcfdcd",
   "metadata": {},
   "source": [
    "### Matrice des valeurs réelles de test "
   ]
  },
  {
   "cell_type": "code",
   "execution_count": 11,
   "id": "5e46d34f",
   "metadata": {},
   "outputs": [],
   "source": [
    "# Initialiser une matrice vide de la même taille que la matrice des prédictions\n",
    "true_values_matrix = np.zeros(prediction_matrix.shape)\n",
    "\n",
    "# Pour chaque arbre dans la forêt\n",
    "for i, tree in enumerate(clf.estimators_):\n",
    "    # Obtenir les vraies valeurs des données de test\n",
    "    true_values = y_test.values\n",
    "    # Stocker les vraies valeurs dans la matrice des vraies valeurs\n",
    "    true_values_matrix[:, i] = true_values\n"
   ]
  },
  {
   "cell_type": "code",
   "execution_count": 19,
   "id": "6b84e5db",
   "metadata": {},
   "outputs": [],
   "source": [
    "# Convertir la matrice des vraies valeurs en une liste de listes\n",
    "true_values_list = true_values_matrix.tolist()\n",
    "\n",
    "# Convertir la liste des vraies valeurs en JSON\n",
    "true_values_json = json.dumps(true_values_list)\n",
    "\n",
    "# Écrire le JSON dans un fichier .js\n",
    "with open('true_values_matrix_tcn.js', 'w') as f:\n",
    "    f.write(\"export let trueValues = \")\n",
    "    f.write(true_values_json)\n",
    "    f.write(\";\")\n"
   ]
  },
  {
   "cell_type": "markdown",
   "id": "9460afdb",
   "metadata": {},
   "source": [
    "### Informations de chaque noeuds des arbres"
   ]
  },
  {
   "cell_type": "code",
   "execution_count": 50,
   "id": "dbc51972",
   "metadata": {},
   "outputs": [],
   "source": [
    "from sklearn import tree as sktree  # import the sklearn tree module\n",
    "import math\n",
    "\n",
    "def tree_to_info(tree, tree_id, accuracy):\n",
    "    tree_ = tree.tree_\n",
    "    feature_name = [\n",
    "        feature_names[i] if i != sktree._tree.TREE_UNDEFINED else \"undefined!\"\n",
    "        for i in tree_.feature\n",
    "    ]\n",
    "    \n",
    "    def recurse(node):\n",
    "        if tree_.feature[node] != sktree._tree.TREE_UNDEFINED:\n",
    "            name = feature_name[node]\n",
    "            threshold = tree_.threshold[node]\n",
    "            samples = tree_.n_node_samples[node]\n",
    "            value = tree_.value[node].tolist()\n",
    "            gini = tree_.impurity[node]\n",
    "            classes = class_names[np.argmax(value)]\n",
    "            return {\n",
    "                \"name\": name,\n",
    "                \"threshold\": threshold,\n",
    "                \"samples\": samples,\n",
    "                \"value\": value,\n",
    "                \"gini\": gini,\n",
    "                \"classes\": classes,\n",
    "                \"children\": [recurse(tree_.children_left[node]) or {}, recurse(tree_.children_right[node]) or {}]\n",
    "            }\n",
    "        else:\n",
    "            return None\n",
    "\n",
    "    info = recurse(0)\n",
    "    return {\n",
    "        \"id\": tree_id,\n",
    "        \"accuracy\": accuracy,\n",
    "        \"info\": info\n",
    "    }\n",
    "\n"
   ]
  },
  {
   "cell_type": "code",
   "execution_count": 51,
   "id": "e92171f2",
   "metadata": {},
   "outputs": [],
   "source": [
    "forest_info_json = []\n",
    "for i, tree in enumerate(clf.estimators_):\n",
    "    tree_id = i\n",
    "    accuracy = math.ceil(tree.score(X_test, y_test) * 100) / 100\n",
    "    tree_info_json = tree_to_info(tree, tree_id, accuracy)\n",
    "    forest_info_json.append(tree_info_json)\n",
    "\n",
    "with open('tree_info_tcc.js', 'w') as f:\n",
    "    f.write(\"export let treeInfo = \")\n",
    "    f.write(json.dumps(forest_info_json, cls=NumpyEncoder))\n",
    "    f.write(\";\")\n"
   ]
  },
  {
   "cell_type": "code",
   "execution_count": null,
   "id": "71cb62e7",
   "metadata": {},
   "outputs": [],
   "source": []
  }
 ],
 "metadata": {
  "kernelspec": {
   "display_name": "Python 3",
   "language": "python",
   "name": "python3"
  },
  "language_info": {
   "codemirror_mode": {
    "name": "ipython",
    "version": 3
   },
   "file_extension": ".py",
   "mimetype": "text/x-python",
   "name": "python",
   "nbconvert_exporter": "python",
   "pygments_lexer": "ipython3",
   "version": "3.8.8"
  }
 },
 "nbformat": 4,
 "nbformat_minor": 5
}
